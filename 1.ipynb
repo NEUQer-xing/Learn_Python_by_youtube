{
 "cells": [],
 "metadata": {
  "interpreter": {
   "hash": "22f232a6dbc7ab28d1447d1098ea4348c3aa624bdb51329b976e90bded1a56ad"
  },
  "kernelspec": {
   "display_name": "Python 3.10.0 64-bit",
   "language": "python",
   "name": "python3"
  },
  "language_info": {
   "codemirror_mode": {
    "name": "ipython",
    "version": 3
   },
   "file_extension": ".py",
   "mimetype": "text/x-python",
   "name": "python",
   "nbconvert_exporter": "python",
   "pygments_lexer": "ipython3",
   "version": "3.10.0"
  },
  "orig_nbformat": 4
 },
 "nbformat": 4,
 "nbformat_minor": 2
}
